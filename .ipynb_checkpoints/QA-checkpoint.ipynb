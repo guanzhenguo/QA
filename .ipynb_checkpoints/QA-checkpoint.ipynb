{
 "cells": [
  {
   "cell_type": "code",
   "execution_count": null,
   "metadata": {},
   "outputs": [],
   "source": []
  },
  {
   "cell_type": "code",
   "execution_count": 1,
   "metadata": {},
   "outputs": [],
   "source": [
    "import pandas as pd\n",
    "import jieba"
   ]
  },
  {
   "cell_type": "code",
   "execution_count": 2,
   "metadata": {},
   "outputs": [
    {
     "data": {
      "text/html": [
       "<div>\n",
       "<style scoped>\n",
       "    .dataframe tbody tr th:only-of-type {\n",
       "        vertical-align: middle;\n",
       "    }\n",
       "\n",
       "    .dataframe tbody tr th {\n",
       "        vertical-align: top;\n",
       "    }\n",
       "\n",
       "    .dataframe thead th {\n",
       "        text-align: right;\n",
       "    }\n",
       "</style>\n",
       "<table border=\"1\" class=\"dataframe\">\n",
       "  <thead>\n",
       "    <tr style=\"text-align: right;\">\n",
       "      <th></th>\n",
       "      <th>ask</th>\n",
       "      <th>ans</th>\n",
       "    </tr>\n",
       "  </thead>\n",
       "  <tbody>\n",
       "    <tr>\n",
       "      <th>0</th>\n",
       "      <td>什么是心脏病早期症状</td>\n",
       "      <td>心脏疾病早期常见的临床症状有：心慌，胸闷，胸痛，乏力等，部分人早期可能无任何明显症状，所有与...</td>\n",
       "    </tr>\n",
       "    <tr>\n",
       "      <th>1</th>\n",
       "      <td>心跳过快是心脏病吗</td>\n",
       "      <td>心跳过快不一定是心脏病，心跳过快是指心率大于100次/分，多种原因可以引起心跳过快，可以分生...</td>\n",
       "    </tr>\n",
       "    <tr>\n",
       "      <th>2</th>\n",
       "      <td>高心病可以治好吗</td>\n",
       "      <td>高血压心脏病目前是无法治愈的，只能控制病情的发展及改善症状，高血压心脏病就是长期血压过高引起...</td>\n",
       "    </tr>\n",
       "    <tr>\n",
       "      <th>3</th>\n",
       "      <td>孩子先心病，几年前做过两次手术，因受到惊吓，打算做个心电，第二天去了医院，检查出来早搏，但并...</td>\n",
       "      <td>先心病可能也是会引起早搏的，最主要还是需要明确你小孩心脏病具体的手术部位和方式。通过心电图检...</td>\n",
       "    </tr>\n",
       "    <tr>\n",
       "      <th>4</th>\n",
       "      <td>心脏病人吃什么食物好</td>\n",
       "      <td>首先，心脏病患者要坚持三低饮食，即低盐、低糖、低脂饮食。所谓低盐是指每天钠盐的摄入量不要超过...</td>\n",
       "    </tr>\n",
       "  </tbody>\n",
       "</table>\n",
       "</div>"
      ],
      "text/plain": [
       "                                                 ask  \\\n",
       "0                                         什么是心脏病早期症状   \n",
       "1                                          心跳过快是心脏病吗   \n",
       "2                                           高心病可以治好吗   \n",
       "3  孩子先心病，几年前做过两次手术，因受到惊吓，打算做个心电，第二天去了医院，检查出来早搏，但并...   \n",
       "4                                         心脏病人吃什么食物好   \n",
       "\n",
       "                                                 ans  \n",
       "0  心脏疾病早期常见的临床症状有：心慌，胸闷，胸痛，乏力等，部分人早期可能无任何明显症状，所有与...  \n",
       "1  心跳过快不一定是心脏病，心跳过快是指心率大于100次/分，多种原因可以引起心跳过快，可以分生...  \n",
       "2  高血压心脏病目前是无法治愈的，只能控制病情的发展及改善症状，高血压心脏病就是长期血压过高引起...  \n",
       "3  先心病可能也是会引起早搏的，最主要还是需要明确你小孩心脏病具体的手术部位和方式。通过心电图检...  \n",
       "4  首先，心脏病患者要坚持三低饮食，即低盐、低糖、低脂饮食。所谓低盐是指每天钠盐的摄入量不要超过...  "
      ]
     },
     "execution_count": 2,
     "metadata": {},
     "output_type": "execute_result"
    }
   ],
   "source": [
    "df1 = pd.read_csv('gxy.txt',sep = '\\t')\n",
    "df2 = pd.read_csv('xzb.txt',sep = '\\t')\n",
    "df2.head()"
   ]
  },
  {
   "cell_type": "code",
   "execution_count": 3,
   "metadata": {},
   "outputs": [],
   "source": [
    "asklist = df1['ask'].values.tolist() + df2['ask'].values.tolist()\n",
    "anslist = df1['ans'].values.tolist() + df2['ans'].values.tolist()"
   ]
  },
  {
   "cell_type": "code",
   "execution_count": 4,
   "metadata": {},
   "outputs": [],
   "source": [
    "#分词，去除停用词\n",
    "def cut_stop(onelist):\n",
    "    result = []\n",
    "    stopwords = pd.read_csv('stopwords.txt',index_col=False,sep='\\t',quoting = 3,names = ['stopwords'],encoding = 'utf-8')\n",
    "    \n",
    "    for i in onelist:\n",
    "        temp = str(i).replace('\\n','').replace(' ','')\n",
    "        a = [str(word) for word in jieba.lcut(temp) if word not in stopwords.stopwords.tolist() and len(str(word)) > 1]\n",
    "        result.append(' '.join(a))\n",
    "    \n",
    "    return result"
   ]
  },
  {
   "cell_type": "code",
   "execution_count": 7,
   "metadata": {},
   "outputs": [
    {
     "name": "stderr",
     "output_type": "stream",
     "text": [
      "Building prefix dict from the default dictionary ...\n",
      "Loading model from cache C:\\Users\\gzg\\AppData\\Local\\Temp\\jieba.cache\n",
      "Loading model cost 0.574 seconds.\n",
      "Prefix dict has been built successfully.\n"
     ]
    }
   ],
   "source": [
    "ask_list = cut_stop(asklist)"
   ]
  },
  {
   "cell_type": "code",
   "execution_count": 8,
   "metadata": {},
   "outputs": [
    {
     "name": "stdout",
     "output_type": "stream",
     "text": [
      "一共出现了 420512 个单词\n",
      "共有 20607 个不同的单词\n"
     ]
    }
   ],
   "source": [
    "ask_words_list = []\n",
    "for i in ask_list:\n",
    "    for j in i.split():\n",
    "        ask_words_list.append(j)\n",
    "\n",
    "from collections import Counter\n",
    "dif_word_total = len(ask_words_list)\n",
    "word_dict = Counter(ask_words_list)\n",
    "word_total = len(dict(word_dict))\n",
    "print (\"一共出现了 %d 个单词\"%dif_word_total)\n",
    "print (\"共有 %d 个不同的单词\"%word_total)"
   ]
  },
  {
   "cell_type": "code",
   "execution_count": 9,
   "metadata": {},
   "outputs": [
    {
     "data": {
      "image/png": "[encoded data removed]",
      "text/plain": [
       "<Figure size 432x288 with 1 Axes>"
      ]
     },
     "metadata": {
      "needs_background": "light"
     },
     "output_type": "display_data"
    }
   ],
   "source": [
    "#按照词频排序\n",
    "import matplotlib.pyplot as plt\n",
    "y = []\n",
    "for i in word_dict:\n",
    "    y.append(word_dict[i])\n",
    "\n",
    "plt.plot(sorted(y,reverse=True)[50:])\n",
    "plt.show()\n"
   ]
  },
  {
   "cell_type": "code",
   "execution_count": 17,
   "metadata": {},
   "outputs": [],
   "source": [
    "from sklearn.feature_extraction.text import TfidfVectorizer\n",
    "\n",
    "vectorizer = TfidfVectorizer() # 定yi一个tf-idf的vectorizer\n",
    "X = vectorizer.fit_transform(ask_list)   # 结果存放在X矩阵"
   ]
  },
  {
   "cell_type": "code",
   "execution_count": null,
   "metadata": {},
   "outputs": [],
   "source": []
  },
  {
   "cell_type": "code",
   "execution_count": 28,
   "metadata": {},
   "outputs": [],
   "source": [
    "from sklearn.metrics.pairwise import cosine_similarity\n",
    "import numpy as np\n",
    "anslist = np.array(anslist)\n",
    "def top5results(input_ask):\n",
    "    \"\"\"\n",
    "    1. 对于用户的输入 input_ask 首先做一系列的预处理，然后再转换成tf-idf向量（利用上面的vectorizer)\n",
    "    2. 计算跟库里的每个问题之间的相似度\n",
    "    3. 找出相似度最高的top5问题的答案\n",
    "    \"\"\"\n",
    "    input_ask = cut_stop([input_ask])\n",
    "    input_vec = vectorizer.transform(input_ask)\n",
    "    res = cosine_similarity(input_vec,X)[0]\n",
    "    top_idxs = np.argsort(res)[-5:].tolist()  # top_idxs存放相似度最高的（存在qlist里的）问题的下标\n",
    "    return anslist[top_idxs]  # 返回相似度最高的问题对应的答案，作为TOP5答案    "
   ]
  },
  {
   "cell_type": "code",
   "execution_count": 29,
   "metadata": {},
   "outputs": [
    {
     "name": "stdout",
     "output_type": "stream",
     "text": [
      "['治疗高血压的药物什么时候吃最好一般需要根据降压药物的种类，半衰期等判断。比如利尿剂一般在早晨服用，钙离子拮抗剂一般在餐后服用等等。目前主要是选择长效降压药物治疗高血压，其降压效果平稳，患者依从性比较好。高血压患者平时应该注意避免含盐量较高及过多油腻性食物的摄入，避免精神过度紧张，适当体育锻炼，同时应该根据自身情况来选择适合自己的降压药物把血压控制在正常范围。'\n",
      " '现在血压过高会导致头痛，头晕，对身体健康和心脏的供血供氧能力都是明显不利的。建议要到专业的内科来根据血压的情况，在医生的指导下来选择调整的方法，要注意避免劳累熬夜，精神过度紧张的情况，这样才能使其稳定在合理的范围。一般的周期在一周左右是可以得到有效的控制。'\n",
      " '血压高多是高盐饮食，不合理睡眠，长期疲劳紧张导致的。建议平时多注意劳逸结合，保持好的生活习惯，预防血压高发生。'\n",
      " '依据您所描述的情况来看，血压值高并且服药降不到正常范围的话建议您首先是查找高血压的原因！高血压分为原发性和继发性，首先要针对病因进行治疗，其次降压药物可以采取两种以上药物联合降压，最后需要调整生活习惯以及低盐低脂饮食！'\n",
      " '高血压要药物一般晨起时候服用或者下午五六点钟服用是比较好的，但是这种服用方法适用于中效降压药物，如果是长效降压药物可以维护24小时，一般都是选择上午服用。高血压可以分原发性高血压和继发性高血压，原发性高血压目前是找不到病因的，也是无法治愈的，需要终身服药控制，继发性高血压积极查明病因后，血压可以逐渐恢复至正常，平时也需要定期监测血压变化。']\n"
     ]
    }
   ],
   "source": [
    "print (top5results(\"高血压吃什么药\"))"
   ]
  },
  {
   "cell_type": "code",
   "execution_count": null,
   "metadata": {},
   "outputs": [],
   "source": [
    "#搜索优化,简历倒排索引"
   ]
  },
  {
   "cell_type": "code",
   "execution_count": 31,
   "metadata": {},
   "outputs": [
    {
     "name": "stdout",
     "output_type": "stream",
     "text": [
      "['治疗高血压的药物什么时候吃最好一般需要根据降压药物的种类，半衰期等判断。比如利尿剂一般在早晨服用，钙离子拮抗剂一般在餐后服用等等。目前主要是选择长效降压药物治疗高血压，其降压效果平稳，患者依从性比较好。高血压患者平时应该注意避免含盐量较高及过多油腻性食物的摄入，避免精神过度紧张，适当体育锻炼，同时应该根据自身情况来选择适合自己的降压药物把血压控制在正常范围。'\n",
      " '现在血压过高会导致头痛，头晕，对身体健康和心脏的供血供氧能力都是明显不利的。建议要到专业的内科来根据血压的情况，在医生的指导下来选择调整的方法，要注意避免劳累熬夜，精神过度紧张的情况，这样才能使其稳定在合理的范围。一般的周期在一周左右是可以得到有效的控制。'\n",
      " '血压高多是高盐饮食，不合理睡眠，长期疲劳紧张导致的。建议平时多注意劳逸结合，保持好的生活习惯，预防血压高发生。'\n",
      " '依据您所描述的情况来看，血压值高并且服药降不到正常范围的话建议您首先是查找高血压的原因！高血压分为原发性和继发性，首先要针对病因进行治疗，其次降压药物可以采取两种以上药物联合降压，最后需要调整生活习惯以及低盐低脂饮食！'\n",
      " '高血压要药物一般晨起时候服用或者下午五六点钟服用是比较好的，但是这种服用方法适用于中效降压药物，如果是长效降压药物可以维护24小时，一般都是选择上午服用。高血压可以分原发性高血压和继发性高血压，原发性高血压目前是找不到病因的，也是无法治愈的，需要终身服药控制，继发性高血压积极查明病因后，血压可以逐渐恢复至正常，平时也需要定期监测血压变化。']\n"
     ]
    }
   ],
   "source": [
    "def top5results_invidx(input_ask):\n",
    "    # 从倒排表中取出相关联的索引\n",
    "    index_list = []\n",
    "    for c in cut([input_ask]):\n",
    "        for i in c:\n",
    "            if i in inverted_idx.keys():\n",
    "                index_list += inverted_idx[i]\n",
    "    index_list = list(set(index_list))\n",
    "    \n",
    "    input_ask = cut_stop([input_ask])\n",
    "    input_vec = vectorizer.transform(input_ask)\n",
    "    res = cosine_similarity(input_vec,X[index_list])[0]\n",
    "    top_idxs = np.argsort(res)[-5:].tolist()  \n",
    "    \n",
    "    return anslist[top_idxs] \n",
    "\n",
    "print (top5results(\"高血压吃什么药\"))"
   ]
  },
  {
   "cell_type": "markdown",
   "metadata": {},
   "source": [
    "# 以上是基于TF-IDF进行ask之间相似性判断的，现在用word2vec训练词向量来操作一下\n"
   ]
  },
  {
   "cell_type": "code",
   "execution_count": 16,
   "metadata": {},
   "outputs": [],
   "source": [
    "import gensim\n",
    "from gensim.models import Word2Vec\n",
    "import numpy as np"
   ]
  },
  {
   "cell_type": "code",
   "execution_count": 10,
   "metadata": {},
   "outputs": [],
   "source": [
    "content = []\n",
    "for i in ask_list:\n",
    "    temp = []\n",
    "    for j in i.split():\n",
    "        temp.append(j)\n",
    "    content.append(temp)"
   ]
  },
  {
   "cell_type": "code",
   "execution_count": null,
   "metadata": {},
   "outputs": [],
   "source": []
  },
  {
   "cell_type": "code",
   "execution_count": 11,
   "metadata": {},
   "outputs": [],
   "source": [
    "num_features = 100\n",
    "min_word_count = 5\n",
    "num_wokers = 4\n",
    "context = 8"
   ]
  },
  {
   "cell_type": "code",
   "execution_count": 12,
   "metadata": {},
   "outputs": [],
   "source": [
    "model = Word2Vec(content,workers  = num_wokers,size=num_features,min_count =  min_word_count,\n",
    "                window = context)\n",
    "import os\n",
    "model_name = '{}features_{}minwords_{}context.model'.format(num_features, min_word_count, context)\n",
    "model.init_sims(replace=True)\n",
    "model.save(model_name)"
   ]
  },
  {
   "cell_type": "code",
   "execution_count": 13,
   "metadata": {},
   "outputs": [
    {
     "data": {
      "text/plain": [
       "[('父亲', 0.9602953195571899),\n",
       " ('两年', 0.9122695922851562),\n",
       " ('大伯', 0.9116426706314087),\n",
       " ('好多年', 0.9106251001358032),\n",
       " ('年纪', 0.9078047275543213),\n",
       " ('妈妈', 0.9068619012832642),\n",
       " ('公公', 0.9052448272705078),\n",
       " ('毛病', 0.9020130038261414),\n",
       " ('婆婆', 0.8968469500541687),\n",
       " ('奶奶', 0.8964260220527649)]"
      ]
     },
     "execution_count": 13,
     "metadata": {},
     "output_type": "execute_result"
    }
   ],
   "source": [
    "model.wv.most_similar('爸爸')"
   ]
  },
  {
   "cell_type": "code",
   "execution_count": 14,
   "metadata": {},
   "outputs": [],
   "source": [
    "#将ask转化为向量，此处做了平均\n",
    "ask_list_vec = []\n",
    "for i in ask_list:\n",
    "    temp = 0\n",
    "    n = 0\n",
    "    for word in i.split():\n",
    "        try:\n",
    "            temp += model.wv[word]\n",
    "            n = n+1\n",
    "        except:\n",
    "            n = n\n",
    "    if n == 0:\n",
    "        temp = 0\n",
    "    else:\n",
    "        temp = temp/n\n",
    "    ask_list_vec.append(temp)"
   ]
  },
  {
   "cell_type": "code",
   "execution_count": 17,
   "metadata": {},
   "outputs": [],
   "source": [
    "ask_list_vec = np.array(ask_list_vec)"
   ]
  },
  {
   "cell_type": "code",
   "execution_count": 18,
   "metadata": {},
   "outputs": [],
   "source": [
    "def get_input_vec(input_ask):\n",
    "    temp = 0\n",
    "    n = 0\n",
    "    for word in cut_stop([input_ask])[0].split():\n",
    "        try:\n",
    "            temp += model.wv[word]\n",
    "            n = n+1\n",
    "        except:\n",
    "            n = n\n",
    "    if n == 0:\n",
    "        temp = 0\n",
    "    else:\n",
    "        temp = temp/n\n",
    "    return temp"
   ]
  },
  {
   "cell_type": "code",
   "execution_count": 24,
   "metadata": {},
   "outputs": [
    {
     "name": "stdout",
     "output_type": "stream",
     "text": [
      "请输入你的问题：\n",
      "\n",
      "什么药可以治疗高血压\n",
      "两天不睡觉会使人体交感神经兴奋，影响心率，从而导致大脑过度疲劳，发生脑神经功能紊乱，可能诱发多种疾病，比如心脏病、脑供血不足、脑血管意外等。轻者患者会出现头晕、头迷、精神萎靡、食欲差等，重者甚至会诱发心脑血管疾病而发生猝死的。 建议一定要养成良好的生活习惯，早睡早起，少熬夜，绝对不能长时间熬夜，以免对身体造成损害。要注意制定休息计划，学会放松，能有计划地学习和工作。一定要禁忌长时间的不睡觉。\n",
      "你好，这种情况首先考虑是器质性心脏病患者，比如说瓣膜关闭不全，房间隔缺损，室间隔缺损等等的情况，建议你去医院心内科就诊，给患者查一下心电图和心脏彩超看一下有没有什么异常的。一般来说先天性心脏病都可以导致明显的心脏结构异常的祝你好运\n",
      "您好，您没有先心病病史并不代表您的孩子一定没有，建议您应该尽快带着孩子到当地正规医院儿科就医，查一下心脏彩超看看有没有问题，如果没有问题最好，如果确定孩子有先天性心脏病的话要尽早配合医生给孩子积极治疗，如果没有问题当然最好不过。\n",
      "根据你的描述以及从发布的图片上看，新出生的孩子发现有先天性心脏病，嘴唇发紫，这种情况会导致孩子免疫力降低，容易发生炎症感染。应该定期的到医院随访检查，在合适的时间进行心脏手术治疗，通过治疗使心脏完全恢复正常。\n",
      "婴儿嘴唇出现青紫色，这可能与先天性心脏病有关，是先天性畸形中最常见的一类，指在胚胎发育时期由于心脏及大血管的形成障碍或发育异常而引起的解剖结构异常，或出生后应自动关闭的通道未能闭合的情形。需去医院检查一下心脏彩超，明确诊断。\n"
     ]
    }
   ],
   "source": [
    "import heapq\n",
    "from scipy.spatial.distance import cosine\n",
    "print('请输入你的问题：\\n')\n",
    "input_ask= input()\n",
    "ask_input_vec = get_input_vec(input_ask)\n",
    "sim_list = []\n",
    "for i in ask_list_vec:\n",
    "    temp = cosine(ask_input_vec,i)\n",
    "    sim_list.append(temp)\n",
    "\n",
    "re1 = map(sim_list.index, heapq.nlargest(5, sim_list)) \n",
    "for i in list(re1):\n",
    "    print(anslist[i])#结果并不是很乐观，比TFidf差远了，需要更大的数据集训练词向量"
   ]
  },
  {
   "cell_type": "code",
   "execution_count": null,
   "metadata": {},
   "outputs": [],
   "source": []
  },
  {
   "cell_type": "code",
   "execution_count": null,
   "metadata": {},
   "outputs": [],
   "source": []
  },
  {
   "cell_type": "code",
   "execution_count": null,
   "metadata": {},
   "outputs": [],
   "source": []
  },
  {
   "cell_type": "code",
   "execution_count": null,
   "metadata": {},
   "outputs": [],
   "source": []
  },
  {
   "cell_type": "code",
   "execution_count": 194,
   "metadata": {},
   "outputs": [],
   "source": []
  },
  {
   "cell_type": "code",
   "execution_count": null,
   "metadata": {},
   "outputs": [],
   "source": []
  },
  {
   "cell_type": "code",
   "execution_count": null,
   "metadata": {},
   "outputs": [],
   "source": []
  },
  {
   "cell_type": "code",
   "execution_count": null,
   "metadata": {},
   "outputs": [],
   "source": []
  },
  {
   "cell_type": "code",
   "execution_count": null,
   "metadata": {},
   "outputs": [],
   "source": []
  },
  {
   "cell_type": "code",
   "execution_count": null,
   "metadata": {},
   "outputs": [],
   "source": []
  },
  {
   "cell_type": "code",
   "execution_count": 65,
   "metadata": {},
   "outputs": [],
   "source": []
  },
  {
   "cell_type": "code",
   "execution_count": null,
   "metadata": {},
   "outputs": [],
   "source": []
  },
  {
   "cell_type": "code",
   "execution_count": 72,
   "metadata": {},
   "outputs": [],
   "source": []
  },
  {
   "cell_type": "code",
   "execution_count": null,
   "metadata": {},
   "outputs": [],
   "source": []
  },
  {
   "cell_type": "code",
   "execution_count": null,
   "metadata": {},
   "outputs": [],
   "source": []
  },
  {
   "cell_type": "code",
   "execution_count": null,
   "metadata": {},
   "outputs": [],
   "source": []
  },
  {
   "cell_type": "code",
   "execution_count": null,
   "metadata": {},
   "outputs": [],
   "source": []
  }
 ],
 "metadata": {
  "kernelspec": {
   "display_name": "TF2.1-python3.7",
   "language": "python",
   "name": "tf2137"
  },
  "language_info": {
   "codemirror_mode": {
    "name": "ipython",
    "version": 3
   },
   "file_extension": ".py",
   "mimetype": "text/x-python",
   "name": "python",
   "nbconvert_exporter": "python",
   "pygments_lexer": "ipython3",
   "version": "3.7.7"
  }
 },
 "nbformat": 4,
 "nbformat_minor": 2
}
